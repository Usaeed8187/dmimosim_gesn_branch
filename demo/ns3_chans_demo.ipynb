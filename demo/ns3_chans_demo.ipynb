{
 "cells": [
  {
   "cell_type": "code",
   "execution_count": null,
   "metadata": {},
   "outputs": [],
   "source": [
    "import os\n",
    "import sys\n",
    "\n",
    "module_path = os.path.abspath(os.path.join('..'))\n",
    "if module_path not in sys.path:\n",
    "    sys.path.append(module_path)\n",
    "\n",
    "gpu_num = 0  # Use \"\" to use the CPU, Use 0 to select first GPU\n",
    "os.environ[\"CUDA_VISIBLE_DEVICES\"] = f\"{gpu_num}\"\n",
    "os.environ['TF_CPP_MIN_LOG_LEVEL'] = '3'\n",
    "\n",
    "# Configure the notebook to use only a single GPU and allocate only as much memory as needed\n",
    "import tensorflow as tf\n",
    "gpus = tf.config.list_physical_devices('GPU')\n",
    "if gpus:\n",
    "    try:\n",
    "        tf.config.experimental.set_memory_growth(gpus[0], True)\n",
    "    except RuntimeError as e:\n",
    "        print(e)\n",
    "tf.get_logger().setLevel('ERROR')"
   ]
  },
  {
   "cell_type": "code",
   "execution_count": null,
   "metadata": {
    "collapsed": false,
    "jupyter": {
     "outputs_hidden": false
    }
   },
   "outputs": [],
   "source": [
    "%matplotlib inline\n",
    "import matplotlib.pyplot as plt\n",
    "import numpy as np"
   ]
  },
  {
   "cell_type": "code",
   "execution_count": null,
   "metadata": {
    "collapsed": false,
    "jupyter": {
     "outputs_hidden": false
    }
   },
   "outputs": [],
   "source": [
    "from sionna.channel import AWGN\n",
    "from dmimo.channel import LoadNs3Channel, estimate_capacity\n",
    "from dmimo.config import Ns3Config"
   ]
  },
  {
   "cell_type": "code",
   "execution_count": null,
   "metadata": {
    "collapsed": false,
    "jupyter": {
     "outputs_hidden": false
    }
   },
   "outputs": [],
   "source": [
    "ns3_config = Ns3Config(total_slots=11, ue_txpwr_ctrl=False)\n",
    "ns3_channel = LoadNs3Channel(ns3_config)\n",
    "add_noise = AWGN()"
   ]
  },
  {
   "cell_type": "code",
   "execution_count": null,
   "metadata": {
    "collapsed": false,
    "jupyter": {
     "outputs_hidden": false
    }
   },
   "outputs": [],
   "source": [
    "def sample_channel(channel_type=\"dMIMO\", slot_idx=5):\n",
    "    # [batch_size, num_rx, num_rx_ant, num_tx, num_tx_ant, num_ofdm_symbols, fft_size]\n",
    "    h_freq, snrdb = ns3_channel(channel_type, slot_idx=slot_idx)\n",
    "    # [batch_size, num_rx_ant, num_tx_ant, num_ofdm_symbols, fft_size]\n",
    "    h_freq = np.squeeze(h_freq, axis=(1,3))\n",
    "\n",
    "    # [batch_size, num_tx_ant, num_rx_ant, num_ofdm_symbols, fft_size]\n",
    "    h_freq = tf.transpose(h_freq, (0, 2, 1, 3, 4))\n",
    "\n",
    "    return h_freq, snrdb"
   ]
  },
  {
   "cell_type": "markdown",
   "source": [
    "#### Transmit Squad Channels"
   ],
   "metadata": {
    "collapsed": false
   }
  },
  {
   "cell_type": "code",
   "execution_count": null,
   "metadata": {
    "collapsed": false,
    "jupyter": {
     "outputs_hidden": false
    }
   },
   "outputs": [],
   "source": [
    "h_txs, snr_txs = sample_channel(\"TxSquad\")\n",
    "print(h_txs.shape, snr_txs.shape)\n",
    "print(np.var(h_txs))"
   ]
  },
  {
   "cell_type": "code",
   "execution_count": null,
   "metadata": {
    "collapsed": false,
    "jupyter": {
     "outputs_hidden": false
    }
   },
   "outputs": [],
   "source": [
    "c_txs = estimate_capacity(h_txs, snrdb=20.0)\n",
    "t_txs = c_txs * 7.68\n",
    "print(\"Estimated capacity: {:.2f} bps/Hz, ({:.2f} Mbps for 7.68MHz)\".format(c_txs, t_txs))"
   ]
  },
  {
   "cell_type": "code",
   "execution_count": null,
   "metadata": {
    "collapsed": false,
    "jupyter": {
     "outputs_hidden": false
    }
   },
   "outputs": [],
   "source": [
    "im = plt.plot(snr_txs[0,0].transpose())"
   ]
  },
  {
   "cell_type": "markdown",
   "source": [
    "#### Receiving Squad Channels"
   ],
   "metadata": {
    "collapsed": false
   }
  },
  {
   "cell_type": "code",
   "execution_count": null,
   "metadata": {
    "collapsed": false,
    "jupyter": {
     "outputs_hidden": false
    }
   },
   "outputs": [],
   "source": [
    "h_rxs, snr_rxs = sample_channel(\"RxSquad\")\n",
    "print(h_rxs.shape, snr_rxs.shape)\n",
    "print(np.var(h_rxs))"
   ]
  },
  {
   "cell_type": "code",
   "execution_count": null,
   "metadata": {
    "collapsed": false,
    "jupyter": {
     "outputs_hidden": false
    }
   },
   "outputs": [],
   "source": [
    "c_rxs = estimate_capacity(h_rxs, snrdb=20.0)\n",
    "t_rxs = c_rxs * 7.68\n",
    "print(\"Estimated capacity: {:.2f} bps/Hz, ({:.2f} Mbps for 7.68MHz)\".format(c_rxs, t_rxs))"
   ]
  },
  {
   "cell_type": "code",
   "execution_count": null,
   "metadata": {
    "collapsed": false,
    "jupyter": {
     "outputs_hidden": false
    }
   },
   "outputs": [],
   "source": [
    "im = plt.plot(snr_rxs[0,0].transpose())"
   ]
  },
  {
   "cell_type": "markdown",
   "source": [
    "#### Squad-to-squad dMIMO Channels"
   ],
   "metadata": {
    "collapsed": false
   }
  },
  {
   "cell_type": "code",
   "execution_count": null,
   "metadata": {
    "collapsed": false,
    "jupyter": {
     "outputs_hidden": false
    }
   },
   "outputs": [],
   "source": [
    "h_dm, snr_dm = sample_channel(\"dMIMO\")\n",
    "print(h_dm.shape, snr_dm.shape)\n",
    "print(np.var(h_dm))"
   ]
  },
  {
   "cell_type": "code",
   "execution_count": null,
   "metadata": {
    "collapsed": false,
    "jupyter": {
     "outputs_hidden": false
    }
   },
   "outputs": [],
   "source": [
    "c_dm = estimate_capacity(h_dm, snrdb=10.0)\n",
    "t_dm = c_dm * 7.68\n",
    "print(\"Estimated capacity: {:.2f} bps/Hz, ({:.2f} Mbps for 7.68MHz)\".format(c_dm, t_dm))"
   ]
  },
  {
   "cell_type": "code",
   "execution_count": null,
   "metadata": {
    "collapsed": false,
    "jupyter": {
     "outputs_hidden": false
    }
   },
   "outputs": [],
   "source": [
    "im = plt.plot(snr_dm[0,0].transpose())"
   ]
  },
  {
   "cell_type": "markdown",
   "source": [
    "#### Effective SU-MIMO Channel using Analog Forwarding"
   ],
   "metadata": {
    "collapsed": false
   }
  },
  {
   "cell_type": "code",
   "execution_count": null,
   "metadata": {
    "collapsed": false,
    "jupyter": {
     "outputs_hidden": false
    }
   },
   "outputs": [],
   "source": [
    "h_fwd, snr_fwd = sample_channel(\"dMIMO-Forward\")\n",
    "print(h_fwd.shape)\n",
    "print(np.var(h_fwd[:,:4]))\n",
    "print(np.var(h_fwd[:,4:]))"
   ]
  },
  {
   "cell_type": "code",
   "execution_count": null,
   "metadata": {
    "collapsed": false,
    "jupyter": {
     "outputs_hidden": false
    }
   },
   "outputs": [],
   "source": [
    "c_fwd = estimate_capacity(h_fwd, snrdb=10.0)\n",
    "t_fwd = c_fwd * 7.68\n",
    "print(\"Estimated capacity: {:.2f} bps/Hz, ({:.2f} Mbps for 7.68MHz)\".format(c_fwd, t_fwd))"
   ]
  },
  {
   "cell_type": "code",
   "execution_count": null,
   "metadata": {
    "collapsed": false,
    "jupyter": {
     "outputs_hidden": false
    }
   },
   "outputs": [],
   "source": [
    "im = plt.plot(snr_fwd[0,0].transpose())"
   ]
  },
  {
   "cell_type": "markdown",
   "source": [
    "#### Frequency-domain Channel Covariance"
   ],
   "metadata": {
    "collapsed": false
   }
  },
  {
   "cell_type": "code",
   "execution_count": null,
   "metadata": {
    "collapsed": false,
    "jupyter": {
     "outputs_hidden": false
    }
   },
   "outputs": [],
   "source": [
    "#################################\n",
    "# Estimate frequency covariance\n",
    "#################################\n",
    "def estimate_freq_cov(channel_type=\"dMIMO\"):\n",
    "    fft_size = tf.cast(512, tf.int64)\n",
    "    freq_cov_mat = tf.zeros([fft_size, fft_size], tf.complex64)\n",
    "\n",
    "    for iter in tf.range(ns3_config.total_slots):\n",
    "        # [num_batch, num_tx_ant, num_rx_ant, num_ofdm_symbols, fft_size]\n",
    "        h_samples, snr_samples = sample_channel(channel_type)\n",
    "\n",
    "        # [num_batch, num_tx_ant, num_rx_ant, fft_size, num_ofdm_symbols]\n",
    "        h_samples_ = tf.transpose(h_samples, [0,1,2,4,3])\n",
    "\n",
    "        # [num_batch, num_tx_ant, num_rx_ant, fft_size, fft_size]\n",
    "        freq_cov_mat_ = tf.matmul(h_samples_, h_samples_, adjoint_b=True)\n",
    "        # [fft_size, fft_size]\n",
    "        freq_cov_mat_ = tf.reduce_mean(freq_cov_mat_, axis=(0,1,2))\n",
    "        # [fft_size, fft_size]\n",
    "        freq_cov_mat += freq_cov_mat_\n",
    "\n",
    "    freq_cov_mat /= tf.complex(tf.cast(10, tf.float32), tf.cast(0.0, tf.float32))\n",
    "\n",
    "    return freq_cov_mat.numpy()"
   ]
  },
  {
   "cell_type": "code",
   "execution_count": null,
   "metadata": {
    "collapsed": false,
    "jupyter": {
     "outputs_hidden": false
    }
   },
   "outputs": [],
   "source": [
    "freq_cov_dmimo = estimate_freq_cov(\"dMIMO\")"
   ]
  },
  {
   "cell_type": "code",
   "execution_count": null,
   "metadata": {
    "collapsed": false,
    "jupyter": {
     "outputs_hidden": false
    }
   },
   "outputs": [],
   "source": [
    "fig, ax = plt.subplots(1,2, figsize=(10,5))\n",
    "fig.suptitle(\"Time and frequency channel covariance matrices\")\n",
    "\n",
    "ax[0].set_title(\"Freq. cov. Real\")\n",
    "im = ax[0].imshow(freq_cov_dmimo.real)\n",
    "ax[1].set_title(\"Freq. cov. Imag\")\n",
    "im = ax[1].imshow(freq_cov_dmimo.imag)"
   ]
  },
  {
   "cell_type": "code",
   "execution_count": null,
   "metadata": {
    "collapsed": false,
    "jupyter": {
     "outputs_hidden": false
    }
   },
   "outputs": [],
   "source": [
    "freq_cov_fwd = estimate_freq_cov(\"dMIMO-Forward\")"
   ]
  },
  {
   "cell_type": "code",
   "execution_count": null,
   "metadata": {
    "collapsed": false,
    "jupyter": {
     "outputs_hidden": false
    }
   },
   "outputs": [],
   "source": [
    "fig, ax = plt.subplots(1,2, figsize=(10,5))\n",
    "fig.suptitle(\"Time and frequency channel covariance matrices\")\n",
    "\n",
    "ax[0].set_title(\"Freq. cov. Real\")\n",
    "im = ax[0].imshow(freq_cov_fwd.real)\n",
    "ax[1].set_title(\"Freq. cov. Imag\")\n",
    "im = ax[1].imshow(freq_cov_fwd.imag)"
   ]
  },
  {
   "cell_type": "markdown",
   "source": [
    "#### Old ns-3 Channel Model without Proper Coefficient Scaling"
   ],
   "metadata": {
    "collapsed": false
   }
  },
  {
   "cell_type": "code",
   "execution_count": null,
   "metadata": {
    "collapsed": false,
    "jupyter": {
     "outputs_hidden": false
    }
   },
   "outputs": [],
   "source": [
    "h_fwd_old, snr_fwd_old = sample_channel(\"dMIMO-Simple\")\n",
    "print(h_fwd_old.shape)\n",
    "print(np.var(h_fwd_old))"
   ]
  },
  {
   "cell_type": "code",
   "execution_count": null,
   "metadata": {
    "collapsed": false,
    "jupyter": {
     "outputs_hidden": false
    }
   },
   "outputs": [],
   "source": [
    "c_fwd_old = estimate_capacity(h_fwd_old, snrdb=10.0)\n",
    "print(\"Estimated capacity: {:.2f} bps/Hz, ({:.2f} Mbps for 7.68MHz)\".format(c_fwd_old, c_fwd_old * 7.68))"
   ]
  },
  {
   "cell_type": "code",
   "execution_count": null,
   "metadata": {
    "collapsed": false,
    "jupyter": {
     "outputs_hidden": false
    }
   },
   "outputs": [],
   "source": [
    "im = plt.plot(snr_fwd_old[0,0].transpose())"
   ]
  },
  {
   "cell_type": "code",
   "execution_count": null,
   "metadata": {
    "collapsed": false,
    "jupyter": {
     "outputs_hidden": false
    }
   },
   "outputs": [],
   "source": [
    "freq_cov_old = estimate_freq_cov(\"dMIMO-Simple\")"
   ]
  },
  {
   "cell_type": "code",
   "execution_count": null,
   "metadata": {
    "collapsed": false,
    "jupyter": {
     "outputs_hidden": false
    }
   },
   "outputs": [],
   "source": [
    "fig, ax = plt.subplots(1,2, figsize=(10,5))\n",
    "fig.suptitle(\"Time and frequency channel covariance matrices\")\n",
    "\n",
    "ax[0].set_title(\"Freq. cov. Real\")\n",
    "im = ax[0].imshow(freq_cov_old.real) #, vmin=-0.3, vmax=1.8)\n",
    "ax[1].set_title(\"Freq. cov. Imag\")\n",
    "im = ax[1].imshow(freq_cov_old.imag) #, vmin=-0.3, vmax=1.8)"
   ]
  },
  {
   "cell_type": "code",
   "execution_count": null,
   "metadata": {
    "collapsed": false,
    "jupyter": {
     "outputs_hidden": false
    }
   },
   "outputs": [],
   "source": []
  }
 ],
 "metadata": {
  "kernelspec": {
   "display_name": "Python 3 (ipykernel)",
   "language": "python",
   "name": "python3"
  },
  "language_info": {
   "codemirror_mode": {
    "name": "ipython",
    "version": 3
   },
   "file_extension": ".py",
   "mimetype": "text/x-python",
   "name": "python",
   "nbconvert_exporter": "python",
   "pygments_lexer": "ipython3",
   "version": "3.11.9"
  }
 },
 "nbformat": 4,
 "nbformat_minor": 4
}
