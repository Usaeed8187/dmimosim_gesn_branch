{
 "cells": [
  {
   "cell_type": "code",
   "execution_count": null,
   "metadata": {},
   "outputs": [],
   "source": [
    "import os\n",
    "import sys\n",
    "\n",
    "module_path = os.path.abspath(os.path.join('..'))\n",
    "if module_path not in sys.path:\n",
    "    sys.path.append(module_path)\n",
    "\n",
    "gpu_num = 0  # Use \"\" to use the CPU, Use 0 to select first GPU\n",
    "os.environ[\"CUDA_VISIBLE_DEVICES\"] = f\"{gpu_num}\"\n",
    "os.environ['TF_CPP_MIN_LOG_LEVEL'] = '3'\n",
    "\n",
    "# Configure the notebook to use only a single GPU and allocate only as much memory as needed\n",
    "import tensorflow as tf\n",
    "gpus = tf.config.list_physical_devices('GPU')\n",
    "if gpus:\n",
    "    try:\n",
    "        tf.config.experimental.set_memory_growth(gpus[0], True)\n",
    "    except RuntimeError as e:\n",
    "        print(e)\n",
    "tf.get_logger().setLevel('ERROR')"
   ]
  },
  {
   "cell_type": "code",
   "execution_count": null,
   "metadata": {
    "collapsed": false,
    "jupyter": {
     "outputs_hidden": false
    }
   },
   "outputs": [],
   "source": [
    "%matplotlib inline\n",
    "import matplotlib.pyplot as plt\n",
    "import numpy as np"
   ]
  },
  {
   "cell_type": "code",
   "execution_count": null,
   "metadata": {
    "collapsed": false,
    "jupyter": {
     "outputs_hidden": false
    }
   },
   "outputs": [],
   "source": [
    "from dmimo.baseline import sim_baseline"
   ]
  },
  {
   "cell_type": "markdown",
   "source": [
    "#### dMIMO simulations for baseline scenario using SVD and ZF precoding"
   ],
   "metadata": {
    "collapsed": false
   }
  },
  {
   "cell_type": "code",
   "execution_count": null,
   "metadata": {
    "collapsed": false,
    "jupyter": {
     "outputs_hidden": false
    }
   },
   "outputs": [],
   "source": [
    "modulation_orders = [2, 4, 6]  # modulation order: 2/4/6 for QPSK/16QAM/64QAM\n",
    "num_modulations = len(modulation_orders)\n",
    "csi_delay = 2  # feedback delay in number of subframe\n",
    "\n",
    "ber = np.zeros((2, num_modulations))\n",
    "ldpc_ber = np.zeros((2, num_modulations))\n",
    "goodput= np.zeros((2, num_modulations))\n",
    "for k in range(num_modulations):\n",
    "    rst_svd, xh_svd = sim_baseline(precoding_method=\"SVD\", csi_delay=csi_delay, num_bits_per_symbol=modulation_orders[k])\n",
    "    ber[0, k] = rst_svd[0]\n",
    "    ldpc_ber[0, k] = rst_svd[1]\n",
    "    goodput[0, k] = rst_svd[2]\n",
    "    rst_zf, xh_zf = sim_baseline(precoding_method=\"ZF\", csi_delay=csi_delay, num_bits_per_symbol=modulation_orders[k])\n",
    "    ber[1, k] = rst_zf[0]\n",
    "    ldpc_ber[1, k] = rst_zf[1]\n",
    "    goodput[1, k] = rst_zf[2]"
   ]
  },
  {
   "cell_type": "markdown",
   "metadata": {
    "collapsed": false,
    "jupyter": {
     "outputs_hidden": false
    }
   },
   "source": [
    "#### Compare performance results"
   ]
  },
  {
   "cell_type": "code",
   "execution_count": null,
   "metadata": {
    "collapsed": false,
    "jupyter": {
     "outputs_hidden": false
    }
   },
   "outputs": [],
   "source": [
    "fig, ax = plt.subplots(1,3, figsize=(15,4))\n",
    "\n",
    "ax[0].set_title(\"SU-MIMO (Baseline)\")\n",
    "ax[0].set_xlabel('Modulation (bits/symbol)')\n",
    "ax[0].set_ylabel('BER')\n",
    "im = ax[0].plot(modulation_orders, ber.transpose(), 'o-')\n",
    "im = ax[0].legend(['SVD', 'ZF'])\n",
    "\n",
    "ax[1].set_title(\"SU-MIMO (Baseline)\")\n",
    "ax[1].set_xlabel('Modulation (bits/symbol)')\n",
    "ax[1].set_ylabel('Coded BER')\n",
    "im = ax[1].plot(modulation_orders, ldpc_ber.transpose(), 'd-')\n",
    "im = ax[1].legend(['SVD', 'ZF'])\n",
    "\n",
    "ax[2].set_title(\"SU-MIMO (Baseline)\")\n",
    "ax[2].set_xlabel('Modulation (bits/symbol)')\n",
    "ax[2].set_ylabel('Goodput (Mbps)')\n",
    "im = ax[2].plot(modulation_orders, goodput.transpose(), 's-')\n",
    "im = ax[2].legend(['SVD', 'ZF'])"
   ]
  },
  {
   "cell_type": "code",
   "execution_count": null,
   "metadata": {
    "collapsed": false,
    "jupyter": {
     "outputs_hidden": false
    }
   },
   "outputs": [],
   "source": []
  }
 ],
 "metadata": {
  "kernelspec": {
   "display_name": "Python 3 (ipykernel)",
   "language": "python",
   "name": "python3"
  },
  "language_info": {
   "codemirror_mode": {
    "name": "ipython",
    "version": 3
   },
   "file_extension": ".py",
   "mimetype": "text/x-python",
   "name": "python",
   "nbconvert_exporter": "python",
   "pygments_lexer": "ipython3",
   "version": "3.11.9"
  }
 },
 "nbformat": 4,
 "nbformat_minor": 4
}
