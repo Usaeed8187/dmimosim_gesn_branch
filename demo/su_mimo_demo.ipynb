{
 "cells": [
  {
   "cell_type": "code",
   "execution_count": null,
   "metadata": {},
   "outputs": [],
   "source": [
    "import os\n",
    "import sys\n",
    "\n",
    "module_path = os.path.abspath(os.path.join('..'))\n",
    "if module_path not in sys.path:\n",
    "    sys.path.append(module_path)\n",
    "\n",
    "gpu_num = 0  # Use \"\" to use the CPU, Use 0 to select first GPU\n",
    "os.environ[\"CUDA_VISIBLE_DEVICES\"] = f\"{gpu_num}\"\n",
    "os.environ['TF_CPP_MIN_LOG_LEVEL'] = '3'\n",
    "os.environ['DRJIT_LIBLLVM_PATH'] = '/usr/lib/llvm/16/lib64/libLLVM.so'\n",
    "\n",
    "# Configure the notebook to use only a single GPU and allocate only as much memory as needed\n",
    "import tensorflow as tf\n",
    "gpus = tf.config.list_physical_devices('GPU')\n",
    "if gpus:\n",
    "    try:\n",
    "        tf.config.experimental.set_memory_growth(gpus[0], True)\n",
    "    except RuntimeError as e:\n",
    "        print(e)\n",
    "tf.get_logger().setLevel('ERROR')"
   ]
  },
  {
   "cell_type": "code",
   "execution_count": null,
   "metadata": {},
   "outputs": [],
   "source": [
    "%matplotlib inline\n",
    "import matplotlib.pyplot as plt\n",
    "import numpy as np"
   ]
  },
  {
   "cell_type": "code",
   "execution_count": null,
   "metadata": {
    "collapsed": false,
    "jupyter": {
     "outputs_hidden": false
    }
   },
   "outputs": [],
   "source": [
    "from dmimo.su_mimo import sim_su_mimo"
   ]
  },
  {
   "cell_type": "markdown",
   "metadata": {
    "collapsed": false,
    "jupyter": {
     "outputs_hidden": false
    }
   },
   "source": [
    "### SU-MIMO Simulation for QPSK"
   ]
  },
  {
   "cell_type": "code",
   "execution_count": null,
   "metadata": {
    "collapsed": false,
    "jupyter": {
     "outputs_hidden": false
    }
   },
   "outputs": [],
   "source": [
    "ber_QPSK = np.zeros((2, 4))\n",
    "ldpc_ber_QPSK = np.zeros((2, 4))\n",
    "goodput_QPSK = np.zeros((2, 4))\n",
    "for csi_delay in range(4):\n",
    "    rst_svd, xh_svd = sim_su_mimo(precoding_method=\"SVD\", num_bits_per_symbol=2, first_slot_idx=10, csi_delay=csi_delay)\n",
    "    ber_QPSK[0, csi_delay] = rst_svd[0]\n",
    "    ldpc_ber_QPSK[0, csi_delay] = rst_svd[1]\n",
    "    goodput_QPSK[0, csi_delay] = rst_svd[2]\n",
    "    rst_zf, xh_zf = sim_su_mimo(precoding_method=\"ZF\", num_bits_per_symbol=2, first_slot_idx=10, csi_delay=csi_delay)\n",
    "    ber_QPSK[1, csi_delay] = rst_zf[0]\n",
    "    ldpc_ber_QPSK[1, csi_delay] = rst_zf[1]\n",
    "    goodput_QPSK[1, csi_delay] = rst_zf[2]"
   ]
  },
  {
   "cell_type": "code",
   "execution_count": null,
   "metadata": {
    "collapsed": false,
    "jupyter": {
     "outputs_hidden": false
    }
   },
   "outputs": [],
   "source": [
    "fig, ax = plt.subplots(1,3, figsize=(15,4))\n",
    "\n",
    "ax[0].set_title(\"SU-MIMO (QPSK)\")\n",
    "ax[0].set_xlabel('CSI feedback delay')\n",
    "ax[0].set_ylabel('BER')\n",
    "im = ax[0].plot(ber_QPSK.transpose(), 'o-')\n",
    "im = ax[0].legend(['SVD', 'ZF'])\n",
    "\n",
    "ax[1].set_title(\"SU-MIMO (QPSK)\")\n",
    "ax[1].set_xlabel('CSI feedback delay')\n",
    "ax[1].set_ylabel('Coded BER')\n",
    "im = ax[1].plot(ldpc_ber_QPSK.transpose(), 'd-')\n",
    "im = ax[1].legend(['SVD', 'ZF'])\n",
    "\n",
    "ax[2].set_title(\"SU-MIMO (QPSK)\")\n",
    "ax[2].set_xlabel('CSI feedback delay')\n",
    "ax[2].set_ylabel('Goodput (Mbps)')\n",
    "im = ax[2].plot(goodput_QPSK.transpose(), 's-')\n",
    "im = ax[2].legend(['SVD', 'ZF'])"
   ]
  },
  {
   "cell_type": "markdown",
   "metadata": {
    "collapsed": false,
    "jupyter": {
     "outputs_hidden": false
    }
   },
   "source": [
    "### SU-MIMO Simulation for 16QAM"
   ]
  },
  {
   "cell_type": "code",
   "execution_count": null,
   "metadata": {
    "collapsed": false,
    "jupyter": {
     "outputs_hidden": false
    }
   },
   "outputs": [],
   "source": [
    "ber_16QAM = np.zeros((2, 4))\n",
    "ldpc_ber_16QAM = np.zeros((2, 4))\n",
    "goodput_16QAM = np.zeros((2, 4))\n",
    "for csi_delay in range(4):\n",
    "    rst_svd, xh_svd = sim_su_mimo(precoding_method=\"SVD\", num_bits_per_symbol=4, first_slot_idx=5, csi_delay=csi_delay)\n",
    "    ber_16QAM[0, csi_delay] = rst_svd[0]\n",
    "    ldpc_ber_16QAM[0, csi_delay] = rst_svd[1]\n",
    "    goodput_16QAM[0, csi_delay] = rst_svd[2]\n",
    "    rst_zf, xh_zf = sim_su_mimo(precoding_method=\"ZF\", num_bits_per_symbol=4, first_slot_idx=5, csi_delay=csi_delay)\n",
    "    ber_16QAM[1, csi_delay] = rst_zf[0]\n",
    "    ldpc_ber_16QAM[1, csi_delay] = rst_zf[1]\n",
    "    goodput_16QAM[1, csi_delay] = rst_zf[2]"
   ]
  },
  {
   "cell_type": "code",
   "execution_count": null,
   "metadata": {
    "collapsed": false,
    "jupyter": {
     "outputs_hidden": false
    }
   },
   "outputs": [],
   "source": [
    "fig, ax = plt.subplots(1,3, figsize=(15,4))\n",
    "\n",
    "ax[0].set_title(\"SU-MIMO (16QAM)\")\n",
    "ax[0].set_xlabel('CSI feedback delay')\n",
    "ax[0].set_ylabel('BER')\n",
    "im = ax[0].plot(ber_16QAM.transpose(), 'o-')\n",
    "im = ax[0].legend(['SVD', 'ZF'])\n",
    "\n",
    "ax[1].set_title(\"SU-MIMO (16QAM)\")\n",
    "ax[1].set_xlabel('CSI feedback delay')\n",
    "ax[1].set_ylabel('Coded BER')\n",
    "im = ax[1].plot(ldpc_ber_16QAM.transpose(), 'd-')\n",
    "im = ax[1].legend(['SVD', 'ZF'])\n",
    "\n",
    "ax[2].set_title(\"SU-MIMO (16QAM)\")\n",
    "ax[2].set_xlabel('CSI feedback delay')\n",
    "ax[2].set_ylabel('Goodput (Mbps)')\n",
    "im = ax[2].plot(goodput_16QAM.transpose(), 's-')\n",
    "im = ax[2].legend(['SVD', 'ZF'])"
   ]
  },
  {
   "cell_type": "markdown",
   "metadata": {
    "collapsed": false,
    "jupyter": {
     "outputs_hidden": false
    }
   },
   "source": [
    "### SU-MIMO Simulation for 64QAM"
   ]
  },
  {
   "cell_type": "code",
   "execution_count": null,
   "metadata": {
    "collapsed": false,
    "jupyter": {
     "outputs_hidden": false
    }
   },
   "outputs": [],
   "source": [
    "ber_64QAM = np.zeros((2, 4))\n",
    "ldpc_ber_64QAM = np.zeros((2, 4))\n",
    "goodput_64QAM = np.zeros((2, 4))\n",
    "for csi_delay in range(4):\n",
    "    rst_svd, xh_svd = sim_su_mimo(precoding_method=\"SVD\", num_bits_per_symbol=6, first_slot_idx=5, csi_delay=csi_delay)\n",
    "    ber_64QAM[0, csi_delay] = rst_svd[0]\n",
    "    ldpc_ber_64QAM[0, csi_delay] = rst_svd[1]\n",
    "    goodput_64QAM[0, csi_delay] = rst_svd[2]\n",
    "    rst_zf, xh_zf = sim_su_mimo(precoding_method=\"ZF\", num_bits_per_symbol=6, first_slot_idx=5, csi_delay=csi_delay)\n",
    "    ber_64QAM[1, csi_delay] = rst_zf[0]\n",
    "    ldpc_ber_64QAM[1, csi_delay] = rst_zf[1]\n",
    "    goodput_64QAM[1, csi_delay] = rst_zf[2]"
   ]
  },
  {
   "cell_type": "code",
   "execution_count": null,
   "metadata": {
    "collapsed": false,
    "jupyter": {
     "outputs_hidden": false
    }
   },
   "outputs": [],
   "source": [
    "fig, ax = plt.subplots(1,3, figsize=(15,4))\n",
    "\n",
    "ax[0].set_title(\"SU-MIMO (64QAM)\")\n",
    "ax[0].set_xlabel('CSI feedback delay')\n",
    "ax[0].set_ylabel('BER')\n",
    "im = ax[0].plot(ber_64QAM.transpose(), 'o-')\n",
    "im = ax[0].legend(['SVD', 'ZF'])\n",
    "\n",
    "ax[1].set_title(\"SU-MIMO (64QAM)\")\n",
    "ax[1].set_xlabel('CSI feedback delay')\n",
    "ax[1].set_ylabel('Coded BER')\n",
    "im = ax[1].plot(ldpc_ber_64QAM.transpose(), 'd-')\n",
    "im = ax[1].legend(['SVD', 'ZF'])\n",
    "\n",
    "ax[2].set_title(\"SU-MIMO (64QAM)\")\n",
    "ax[2].set_xlabel('CSI feedback delay')\n",
    "ax[2].set_ylabel('Goodput (Mbps)')\n",
    "im = ax[2].plot(goodput_64QAM.transpose(), 's-')\n",
    "im = ax[2].legend(['SVD', 'ZF'])"
   ]
  },
  {
   "cell_type": "markdown",
   "metadata": {
    "collapsed": false,
    "jupyter": {
     "outputs_hidden": false
    }
   },
   "source": [
    "### Comparing SVD and ZF Precoding without CSI Feedback Delay"
   ]
  },
  {
   "cell_type": "code",
   "execution_count": null,
   "metadata": {
    "collapsed": false,
    "jupyter": {
     "outputs_hidden": false
    }
   },
   "outputs": [],
   "source": [
    "ber_svd, xh_svd = sim_su_mimo(precoding_method=\"SVD\", num_bits_per_symbol=4)"
   ]
  },
  {
   "cell_type": "code",
   "execution_count": null,
   "metadata": {
    "collapsed": false,
    "jupyter": {
     "outputs_hidden": false
    }
   },
   "outputs": [],
   "source": [
    "print(\"Uncoded BER: {}, LDPC BER: {}\".format(ber_svd[0], ber_svd[1]))"
   ]
  },
  {
   "cell_type": "code",
   "execution_count": null,
   "metadata": {
    "collapsed": false,
    "jupyter": {
     "outputs_hidden": false
    }
   },
   "outputs": [],
   "source": [
    "x1a = xh_svd[5,0,0]\n",
    "x1b = xh_svd[5,0,6]\n",
    "x1c = xh_svd[5,0,7]\n",
    "\n",
    "fig, ax = plt.subplots(1,3, figsize=(15,4))\n",
    "ax[0].set_xlim([-2, 2])\n",
    "ax[0].set_ylim([-2, 2])\n",
    "im = ax[0].scatter(x1a.real, x1a.imag)\n",
    "ax[1].set_xlim([-2, 2])\n",
    "ax[1].set_ylim([-2, 2])\n",
    "im = ax[1].scatter(x1b.real, x1b.imag)\n",
    "ax[2].set_xlim([-2, 2])\n",
    "ax[2].set_ylim([-2, 2])\n",
    "im = ax[2].scatter(x1c.real, x1c.imag)"
   ]
  },
  {
   "cell_type": "code",
   "execution_count": null,
   "metadata": {
    "collapsed": false,
    "jupyter": {
     "outputs_hidden": false
    }
   },
   "outputs": [],
   "source": [
    "ber_zf, xh_zf = sim_su_mimo(precoding_method=\"ZF\", num_bits_per_symbol=4)"
   ]
  },
  {
   "cell_type": "code",
   "execution_count": null,
   "metadata": {
    "collapsed": false,
    "jupyter": {
     "outputs_hidden": false
    }
   },
   "outputs": [],
   "source": [
    "print(\"Uncoded BER: {}, LDPC BER: {}\".format(ber_zf[0], ber_zf[1]))"
   ]
  },
  {
   "cell_type": "code",
   "execution_count": null,
   "metadata": {
    "collapsed": false,
    "jupyter": {
     "outputs_hidden": false
    }
   },
   "outputs": [],
   "source": [
    "x2a = xh_zf[5,0,0]\n",
    "x2b = xh_zf[5,0,4]\n",
    "x2c = xh_zf[5,0,7]\n",
    "\n",
    "fig, ax = plt.subplots(1,3, figsize=(15,4))\n",
    "ax[0].set_xlim([-2, 2])\n",
    "ax[0].set_ylim([-2, 2])\n",
    "im = ax[0].scatter(x2a.real, x2a.imag)\n",
    "ax[1].set_xlim([-2, 2])\n",
    "ax[1].set_ylim([-2, 2])\n",
    "im = ax[1].scatter(x2b.real, x2b.imag)\n",
    "ax[2].set_xlim([-2, 2])\n",
    "ax[2].set_ylim([-2, 2])\n",
    "im = ax[2].scatter(x2c.real, x2c.imag)"
   ]
  },
  {
   "cell_type": "markdown",
   "metadata": {
    "collapsed": false,
    "jupyter": {
     "outputs_hidden": false
    }
   },
   "source": [
    "### Comparing SVD and ZF Precoding with CSI Feedback Delay"
   ]
  },
  {
   "cell_type": "code",
   "execution_count": null,
   "metadata": {
    "collapsed": false,
    "jupyter": {
     "outputs_hidden": false
    }
   },
   "outputs": [],
   "source": [
    "ber_svd_csi, xh_svd_csi = sim_su_mimo(precoding_method=\"SVD\", csi_delay=1, num_bits_per_symbol=4)"
   ]
  },
  {
   "cell_type": "code",
   "execution_count": null,
   "metadata": {
    "collapsed": false,
    "jupyter": {
     "outputs_hidden": false
    }
   },
   "outputs": [],
   "source": [
    "print(\"Uncoded BER: {}, LDPC BER: {}\".format(ber_svd_csi[0], ber_svd_csi[1]))"
   ]
  },
  {
   "cell_type": "code",
   "execution_count": null,
   "metadata": {
    "collapsed": false,
    "jupyter": {
     "outputs_hidden": false
    }
   },
   "outputs": [],
   "source": [
    "x3a = xh_svd_csi[5,0,0]\n",
    "x3b = xh_svd_csi[5,0,4]\n",
    "x3c = xh_svd_csi[5,0,7]\n",
    "\n",
    "fig, ax = plt.subplots(1,3, figsize=(15,4))\n",
    "ax[0].set_xlim([-2, 2])\n",
    "ax[0].set_ylim([-2, 2])\n",
    "im = ax[0].scatter(x3a.real, x3a.imag)\n",
    "ax[1].set_xlim([-2, 2])\n",
    "ax[1].set_ylim([-2, 2])\n",
    "im = ax[1].scatter(x3b.real, x3b.imag)\n",
    "ax[2].set_xlim([-2, 2])\n",
    "ax[2].set_ylim([-2, 2])\n",
    "im = ax[2].scatter(x3c.real, x3c.imag)"
   ]
  },
  {
   "cell_type": "code",
   "execution_count": null,
   "metadata": {
    "collapsed": false,
    "jupyter": {
     "outputs_hidden": false
    }
   },
   "outputs": [],
   "source": [
    "ber_zf_csi, xh_zf_csi = sim_su_mimo(precoding_method=\"ZF\", csi_delay=1, num_bits_per_symbol=4)"
   ]
  },
  {
   "cell_type": "code",
   "execution_count": null,
   "metadata": {
    "collapsed": false,
    "jupyter": {
     "outputs_hidden": false
    }
   },
   "outputs": [],
   "source": [
    "print(\"Uncoded BER: {}, LDPC BER: {}\".format(ber_zf_csi[0], ber_zf_csi[1]))"
   ]
  },
  {
   "cell_type": "code",
   "execution_count": null,
   "outputs": [],
   "source": [],
   "metadata": {
    "collapsed": false
   }
  },
  {
   "cell_type": "code",
   "execution_count": null,
   "metadata": {
    "collapsed": false,
    "jupyter": {
     "outputs_hidden": false
    }
   },
   "outputs": [],
   "source": [
    "x4a = xh_zf_csi[5,0,0]\n",
    "x4b = xh_zf_csi[5,0,4]\n",
    "x4c = xh_zf_csi[5,0,7]\n",
    "\n",
    "fig, ax = plt.subplots(1,3, figsize=(15,4))\n",
    "ax[0].set_xlim([-2, 2])\n",
    "ax[0].set_ylim([-2, 2])\n",
    "im = ax[0].scatter(x4a.real, x4a.imag)\n",
    "ax[1].set_xlim([-2, 2])\n",
    "ax[1].set_ylim([-2, 2])\n",
    "im = ax[1].scatter(x4b.real, x4b.imag)\n",
    "ax[2].set_xlim([-2, 2])\n",
    "ax[2].set_ylim([-2, 2])\n",
    "im = ax[2].scatter(x4c.real, x4c.imag)"
   ]
  },
  {
   "cell_type": "code",
   "execution_count": null,
   "metadata": {
    "collapsed": false,
    "jupyter": {
     "outputs_hidden": false
    }
   },
   "outputs": [],
   "source": []
  }
 ],
 "metadata": {
  "kernelspec": {
   "display_name": "Python 3 (ipykernel)",
   "language": "python",
   "name": "python3"
  },
  "language_info": {
   "codemirror_mode": {
    "name": "ipython",
    "version": 3
   },
   "file_extension": ".py",
   "mimetype": "text/x-python",
   "name": "python",
   "nbconvert_exporter": "python",
   "pygments_lexer": "ipython3",
   "version": "3.11.9"
  }
 },
 "nbformat": 4,
 "nbformat_minor": 4
}
