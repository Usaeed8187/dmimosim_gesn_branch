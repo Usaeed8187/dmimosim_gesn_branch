{
 "cells": [
  {
   "cell_type": "code",
   "execution_count": null,
   "metadata": {},
   "outputs": [],
   "source": [
    "import os\n",
    "import sys\n",
    "\n",
    "module_path = os.path.abspath(os.path.join('..'))\n",
    "if module_path not in sys.path:\n",
    "    sys.path.append(module_path)\n",
    "\n",
    "gpu_num = 0  # Use \"\" to use the CPU, Use 0 to select first GPU\n",
    "os.environ[\"CUDA_VISIBLE_DEVICES\"] = f\"{gpu_num}\"\n",
    "os.environ['TF_CPP_MIN_LOG_LEVEL'] = '3'\n",
    "\n",
    "# Configure the notebook to use only a single GPU and allocate only as much memory as needed\n",
    "import tensorflow as tf\n",
    "gpus = tf.config.list_physical_devices('GPU')\n",
    "if gpus:\n",
    "    try:\n",
    "        tf.config.experimental.set_memory_growth(gpus[0], True)\n",
    "    except RuntimeError as e:\n",
    "        print(e)\n",
    "tf.get_logger().setLevel('ERROR')"
   ]
  },
  {
   "cell_type": "code",
   "execution_count": null,
   "metadata": {},
   "outputs": [],
   "source": [
    "%matplotlib inline\n",
    "import matplotlib.pyplot as plt\n",
    "import numpy as np"
   ]
  },
  {
   "cell_type": "code",
   "execution_count": null,
   "metadata": {
    "collapsed": false,
    "jupyter": {
     "outputs_hidden": false
    }
   },
   "outputs": [],
   "source": [
    "from dmimo.mu_mimo import sim_mu_mimo, sim_mu_mimo_all"
   ]
  },
  {
   "cell_type": "markdown",
   "metadata": {
    "collapsed": false,
    "jupyter": {
     "outputs_hidden": false
    }
   },
   "source": [
    "### MU-MIMO Simulation for QPSK"
   ]
  },
  {
   "cell_type": "code",
   "execution_count": null,
   "metadata": {},
   "outputs": [],
   "source": [
    "ber_QPSK = np.zeros((2, 3))\n",
    "ldpc_ber_QPSK = np.zeros((2, 3))\n",
    "goodput_QPSK = np.zeros((2, 3))\n",
    "throughput_QPSK = np.zeros((2, 3))\n",
    "csi_delays = np.arange(2,5)\n",
    "for k, csi_delay in enumerate(csi_delays):\n",
    "    rst_svd = sim_mu_mimo_all(precoding_method=\"ZF\", num_bits_per_symbol=2, csi_delay=csi_delay, num_tx_streams=8, total_slots=10)\n",
    "    ber_QPSK[0, k] = rst_svd[0]\n",
    "    ldpc_ber_QPSK[0, k] = rst_svd[1]\n",
    "    goodput_QPSK[0, k] = rst_svd[2]\n",
    "    throughput_QPSK[0, k] = rst_svd[3]\n",
    "    rst_zf = sim_mu_mimo_all(precoding_method=\"BD\", num_bits_per_symbol=2, csi_delay=csi_delay, num_tx_streams=8, total_slots=10)\n",
    "    ber_QPSK[1, k] = rst_zf[0]\n",
    "    ldpc_ber_QPSK[1, k] = rst_zf[1]\n",
    "    goodput_QPSK[1, k] = rst_zf[2]\n",
    "    throughput_QPSK[1, k] = rst_zf[3]"
   ]
  },
  {
   "cell_type": "code",
   "execution_count": null,
   "metadata": {},
   "outputs": [],
   "source": [
    "fig, ax = plt.subplots(1,3, figsize=(15,4))\n",
    "\n",
    "ax[0].set_title(\"MU-MIMO (QPSK)\")\n",
    "ax[0].set_xlabel('CSI feedback delay')\n",
    "ax[0].set_ylabel('BER')\n",
    "im = ax[0].plot(csi_delays, ber_QPSK[0].transpose(), 'o-')\n",
    "im = ax[0].plot(csi_delays, ber_QPSK[1].transpose(), 'd-')\n",
    "im = ax[0].legend(['BD', 'ZF'])\n",
    "\n",
    "ax[1].set_title(\"MU-MIMO (QPSK)\")\n",
    "ax[1].set_xlabel('CSI feedback delay')\n",
    "ax[1].set_ylabel('Coded BER')\n",
    "im = ax[1].plot(csi_delays, ldpc_ber_QPSK[0].transpose(), 'o-')\n",
    "im = ax[1].plot(csi_delays, ldpc_ber_QPSK[1].transpose(), 'd-')\n",
    "im = ax[1].legend(['BD', 'ZF'])\n",
    "\n",
    "ax[2].set_title(\"MU-MIMO (QPSK)\")\n",
    "ax[2].set_xlabel('CSI feedback delay')\n",
    "ax[2].set_ylabel('Goodput (Mbps)')\n",
    "im = ax[2].plot(csi_delays, goodput_QPSK[0].transpose(), 'o-')\n",
    "im = ax[2].plot(csi_delays, goodput_QPSK[1].transpose(), '*-')\n",
    "im = ax[2].plot(csi_delays, throughput_QPSK[0].transpose(), '>-')\n",
    "im = ax[2].plot(csi_delays, throughput_QPSK[1].transpose(), 'd-')\n",
    "im = ax[2].legend(['Goodput-ZF', 'Goodput-BD', 'Throughput-ZF', 'Throughput-BD'])"
   ]
  },
  {
   "cell_type": "markdown",
   "metadata": {
    "collapsed": false,
    "jupyter": {
     "outputs_hidden": false
    }
   },
   "source": [
    "### MU-MIMO Simulation for 16QAM"
   ]
  },
  {
   "cell_type": "code",
   "execution_count": null,
   "metadata": {},
   "outputs": [],
   "source": [
    "ber_16QAM = np.zeros((2, 3))\n",
    "ldpc_ber_16QAM = np.zeros((2, 3))\n",
    "goodput_16QAM = np.zeros((2, 3))\n",
    "throughput_16QAM = np.zeros((2, 3))\n",
    "csi_delays = np.arange(2,5)\n",
    "for k, csi_delay in enumerate(csi_delays):\n",
    "    rst_bd = sim_mu_mimo_all(precoding_method=\"BD\", num_bits_per_symbol=4, csi_delay=csi_delay, num_tx_streams=8, total_slots=10)\n",
    "    ber_16QAM[0, k] = rst_bd[0]\n",
    "    ldpc_ber_16QAM[0, k] = rst_bd[1]\n",
    "    goodput_16QAM[0, k] = rst_bd[2]\n",
    "    throughput_16QAM[0, k] = rst_bd[3]\n",
    "    rst_zf = sim_mu_mimo_all(precoding_method=\"ZF\", num_bits_per_symbol=4, csi_delay=csi_delay, num_tx_streams=8, total_slots=10)\n",
    "    ber_16QAM[1, k] = rst_zf[0]\n",
    "    ldpc_ber_16QAM[1, k] = rst_zf[1]\n",
    "    goodput_16QAM[1, k] = rst_zf[2]\n",
    "    throughput_16QAM[1, k] = rst_zf[3]"
   ]
  },
  {
   "cell_type": "code",
   "execution_count": null,
   "metadata": {},
   "outputs": [],
   "source": [
    "fig, ax = plt.subplots(1,3, figsize=(15,4))\n",
    "\n",
    "ax[0].set_title(\"MU-MIMO (16QAM)\")\n",
    "ax[0].set_xlabel('CSI feedback delay')\n",
    "ax[0].set_ylabel('BER')\n",
    "im = ax[0].plot(csi_delays, ber_16QAM[0].transpose(), 'o-')\n",
    "im = ax[0].plot(csi_delays, ber_16QAM[1].transpose(), 'd-')\n",
    "im = ax[0].legend(['BD', 'ZF'])\n",
    "\n",
    "ax[1].set_title(\"MU-MIMO (16QAM)\")\n",
    "ax[1].set_xlabel('CSI feedback delay')\n",
    "ax[1].set_ylabel('Coded BER')\n",
    "im = ax[1].plot(csi_delays, ldpc_ber_16QAM[0].transpose(), 'o-')\n",
    "im = ax[1].plot(csi_delays, ldpc_ber_16QAM[1].transpose(), 'd-')\n",
    "im = ax[1].legend(['BD', 'ZF'])\n",
    "\n",
    "ax[2].set_title(\"MU-MIMO (16QAM)\")\n",
    "ax[2].set_xlabel('CSI feedback delay')\n",
    "ax[2].set_ylabel('Goodput (Mbps)')\n",
    "im = ax[2].plot(csi_delays, goodput_16QAM[0].transpose(), 'o-')\n",
    "im = ax[2].plot(csi_delays, goodput_16QAM[1].transpose(), '*-')\n",
    "im = ax[2].plot(csi_delays, throughput_16QAM[0].transpose(), '>-')\n",
    "im = ax[2].plot(csi_delays, throughput_16QAM[1].transpose(), 'd-')\n",
    "im = ax[2].legend(['Goodput-ZF', 'Goodput-BD', 'Throughput-ZF', 'Throughput-BD'])"
   ]
  },
  {
   "cell_type": "markdown",
   "metadata": {
    "collapsed": false,
    "jupyter": {
     "outputs_hidden": false
    }
   },
   "source": [
    "### MU-MIMO Simulation for 64QAM"
   ]
  },
  {
   "cell_type": "code",
   "execution_count": null,
   "metadata": {},
   "outputs": [],
   "source": [
    "ber_64QAM = np.zeros((2, 3))\n",
    "ldpc_ber_64QAM = np.zeros((2, 3))\n",
    "goodput_64QAM = np.zeros((2, 3))\n",
    "throughput_64QAM = np.zeros((2, 3))\n",
    "csi_delays = np.arange(2,5)\n",
    "for k, csi_delay in enumerate(csi_delays):\n",
    "    rst_bd = sim_mu_mimo_all(precoding_method=\"BD\", num_bits_per_symbol=6, csi_delay=csi_delay, total_slots=10)\n",
    "    ber_64QAM[0, k] = rst_bd[0]\n",
    "    ldpc_ber_64QAM[0, k] = rst_bd[1]\n",
    "    goodput_64QAM[0, k] = rst_bd[2]\n",
    "    throughput_64QAM[0, k] = rst_bd[3]\n",
    "    rst_zf = sim_mu_mimo_all(precoding_method=\"ZF\", num_bits_per_symbol=6, csi_delay=csi_delay, total_slots=10)\n",
    "    ber_64QAM[1, k] = rst_zf[0]\n",
    "    ldpc_ber_64QAM[1, k] = rst_zf[1]\n",
    "    goodput_64QAM[1, k] = rst_zf[2]\n",
    "    throughput_64QAM[1, k] = rst_zf[3]"
   ]
  },
  {
   "cell_type": "code",
   "execution_count": null,
   "metadata": {},
   "outputs": [],
   "source": [
    "fig, ax = plt.subplots(1,3, figsize=(15,4))\n",
    "\n",
    "ax[0].set_title(\"MU-MIMO (64QAM)\")\n",
    "ax[0].set_xlabel('CSI feedback delay')\n",
    "ax[0].set_ylabel('BER')\n",
    "im = ax[0].plot(csi_delays, ber_64QAM[0].transpose(), 'o-')\n",
    "im = ax[0].plot(csi_delays, ber_64QAM[1].transpose(), 'd-')\n",
    "im = ax[0].legend(['BD', 'ZF'])\n",
    "\n",
    "ax[1].set_title(\"MU-MIMO (64QAM)\")\n",
    "ax[1].set_xlabel('CSI feedback delay')\n",
    "ax[1].set_ylabel('Coded BER')\n",
    "im = ax[1].plot(csi_delays, ldpc_ber_64QAM[0].transpose(), 'o-')\n",
    "im = ax[1].plot(csi_delays, ldpc_ber_64QAM[1].transpose(), 'd-')\n",
    "im = ax[1].legend(['BD', 'ZF'])\n",
    "\n",
    "ax[2].set_title(\"MU-MIMO (64QAM)\")\n",
    "ax[2].set_xlabel('CSI feedback delay')\n",
    "ax[2].set_ylabel('Goodput (Mbps)')\n",
    "im = ax[2].plot(csi_delays, goodput_64QAM[0].transpose(), 'o-')\n",
    "im = ax[2].plot(csi_delays, goodput_64QAM[1].transpose(), '*-')\n",
    "im = ax[2].plot(csi_delays, throughput_64QAM[0].transpose(), '>-')\n",
    "im = ax[2].plot(csi_delays, throughput_64QAM[1].transpose(), 'd-')\n",
    "im = ax[2].legend(['Goodput-ZF', 'Goodput-BD', 'Throughput-ZF', 'Throughput-BD'])"
   ]
  },
  {
   "cell_type": "markdown",
   "metadata": {
    "collapsed": false,
    "jupyter": {
     "outputs_hidden": false
    }
   },
   "source": [
    "### Comparing ZF and BD Precoding without CSI Feedback Delay"
   ]
  },
  {
   "cell_type": "code",
   "execution_count": null,
   "metadata": {
    "collapsed": false,
    "jupyter": {
     "outputs_hidden": false
    }
   },
   "outputs": [],
   "source": [
    "bers_zf, bits_xh_zf, xh_zf = sim_mu_mimo(precoding_method=\"ZF\", num_bits_per_symbol=4)"
   ]
  },
  {
   "cell_type": "code",
   "execution_count": null,
   "metadata": {
    "collapsed": false,
    "jupyter": {
     "outputs_hidden": false
    }
   },
   "outputs": [],
   "source": [
    "print(\"Uncoded BER: {}, LDPC BER: {}\".format(bers_zf[0], bers_zf[1]))"
   ]
  },
  {
   "cell_type": "code",
   "execution_count": null,
   "metadata": {
    "collapsed": false,
    "jupyter": {
     "outputs_hidden": false
    }
   },
   "outputs": [],
   "source": [
    "x2a = xh_zf[1,0,0]\n",
    "x2b = xh_zf[1,0,4]\n",
    "x2c = xh_zf[1,0,7]\n",
    "\n",
    "fig, ax = plt.subplots(1,3, figsize=(15,4))\n",
    "ax[0].set_xlim([-2, 2])\n",
    "ax[0].set_ylim([-2, 2])\n",
    "im = ax[0].scatter(x2a.real, x2a.imag)\n",
    "ax[1].set_xlim([-2, 2])\n",
    "ax[1].set_ylim([-2, 2])\n",
    "im = ax[1].scatter(x2b.real, x2b.imag)\n",
    "ax[2].set_xlim([-2, 2])\n",
    "ax[2].set_ylim([-2, 2])\n",
    "im = ax[2].scatter(x2c.real, x2c.imag)"
   ]
  },
  {
   "cell_type": "code",
   "execution_count": null,
   "metadata": {
    "collapsed": false,
    "jupyter": {
     "outputs_hidden": false
    }
   },
   "outputs": [],
   "source": []
  }
 ],
 "metadata": {
  "kernelspec": {
   "display_name": "Python 3 (ipykernel)",
   "language": "python",
   "name": "python3"
  },
  "language_info": {
   "codemirror_mode": {
    "name": "ipython",
    "version": 3
   },
   "file_extension": ".py",
   "mimetype": "text/x-python",
   "name": "python",
   "nbconvert_exporter": "python",
   "pygments_lexer": "ipython3",
   "version": "3.11.9"
  }
 },
 "nbformat": 4,
 "nbformat_minor": 4
}
