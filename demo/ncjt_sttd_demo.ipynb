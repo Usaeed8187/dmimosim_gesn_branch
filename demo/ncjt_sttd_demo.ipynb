{
 "cells": [
  {
   "cell_type": "code",
   "execution_count": null,
   "metadata": {
    "collapsed": true
   },
   "outputs": [],
   "source": [
    "import os\n",
    "import sys\n",
    "\n",
    "module_path = os.path.abspath(os.path.join('..'))\n",
    "if module_path not in sys.path:\n",
    "    sys.path.append(module_path)\n",
    "\n",
    "gpu_num = 0  # Use \"\" to use the CPU, Use 0 to select first GPU\n",
    "os.environ[\"CUDA_VISIBLE_DEVICES\"] = f\"{gpu_num}\"\n",
    "os.environ['TF_CPP_MIN_LOG_LEVEL'] = '3'\n",
    "\n",
    "# Configure the notebook to use only a single GPU and allocate only as much memory as needed\n",
    "import tensorflow as tf\n",
    "gpus = tf.config.list_physical_devices('GPU')\n",
    "if gpus:\n",
    "    try:\n",
    "        tf.config.experimental.set_memory_growth(gpus[0], True)\n",
    "    except RuntimeError as e:\n",
    "        print(e)\n",
    "tf.get_logger().setLevel('ERROR')"
   ]
  },
  {
   "cell_type": "code",
   "execution_count": null,
   "outputs": [],
   "source": [
    "%matplotlib inline\n",
    "import matplotlib.pyplot as plt\n",
    "import numpy as np"
   ],
   "metadata": {
    "collapsed": false
   }
  },
  {
   "cell_type": "code",
   "execution_count": null,
   "outputs": [],
   "source": [
    "from dmimo.sttd import sim_sttd_ofdm, sim_sttd_combining"
   ],
   "metadata": {
    "collapsed": false
   }
  },
  {
   "cell_type": "code",
   "execution_count": null,
   "outputs": [],
   "source": [
    "num_rx_nodes = np.array([2, 4, 6])\n",
    "code_rates = np.array([1/2, 2/3, 2/3])"
   ],
   "metadata": {
    "collapsed": false
   }
  },
  {
   "cell_type": "code",
   "execution_count": null,
   "outputs": [],
   "source": [
    "ber_qpsk = np.zeros(3)\n",
    "gput_qpsk = np.zeros(3)\n",
    "for k, num_rx in enumerate(num_rx_nodes):\n",
    "    ber_qpsk[k], gput_qpsk[k] = sim_sttd_combining(batch_size=10, num_rx=num_rx, preldpc_combining=True, code_rate=code_rates[k], modulation_order=2)\n",
    "print(ber_qpsk, gput_qpsk)"
   ],
   "metadata": {
    "collapsed": false
   }
  },
  {
   "cell_type": "code",
   "execution_count": null,
   "outputs": [],
   "source": [
    "ber_16qam = np.zeros(3)\n",
    "gput_16qam = np.zeros(3)\n",
    "for k, num_rx in enumerate(num_rx_nodes):\n",
    "    ber_16qam[k], gput_16qam[k] = sim_sttd_combining(batch_size=10, num_rx=num_rx, preldpc_combining=True, code_rate=code_rates[k],  modulation_order=4)"
   ],
   "metadata": {
    "collapsed": false
   }
  },
  {
   "cell_type": "code",
   "execution_count": null,
   "outputs": [],
   "source": [
    "print(ber_16qam, gput_16qam)"
   ],
   "metadata": {
    "collapsed": false
   }
  },
  {
   "cell_type": "code",
   "execution_count": null,
   "outputs": [],
   "source": [
    "ber_64qam = np.zeros(3)\n",
    "gput_64qam = np.zeros(3)\n",
    "for k, num_rx in enumerate(num_rx_nodes):\n",
    "    ber_64qam[k], gput_64qam[k] = sim_sttd_combining(batch_size=10, num_rx=num_rx, preldpc_combining=True, code_rate=code_rates[k], modulation_order=6)"
   ],
   "metadata": {
    "collapsed": false
   }
  },
  {
   "cell_type": "code",
   "execution_count": null,
   "outputs": [],
   "source": [
    "print(ber_64qam, gput_64qam)"
   ],
   "metadata": {
    "collapsed": false
   }
  },
  {
   "cell_type": "code",
   "execution_count": null,
   "outputs": [],
   "source": [
    "ber_256qam = np.zeros(3)\n",
    "gput_256qam = np.zeros(3)\n",
    "for k, num_rx in enumerate(num_rx_nodes):\n",
    "    ber_256qam[k], gput_256qam[k] = sim_sttd_combining(batch_size=2, num_rx=num_rx, preldpc_combining=True, code_rate=code_rates[k], modulation_order=8)"
   ],
   "metadata": {
    "collapsed": false
   }
  },
  {
   "cell_type": "code",
   "execution_count": null,
   "outputs": [],
   "source": [
    "print(ber_256qam, gput_256qam)"
   ],
   "metadata": {
    "collapsed": false
   }
  },
  {
   "cell_type": "code",
   "execution_count": null,
   "outputs": [],
   "source": [],
   "metadata": {
    "collapsed": false
   }
  }
 ],
 "metadata": {
  "kernelspec": {
   "display_name": "Python 3",
   "language": "python",
   "name": "python3"
  },
  "language_info": {
   "codemirror_mode": {
    "name": "ipython",
    "version": 2
   },
   "file_extension": ".py",
   "mimetype": "text/x-python",
   "name": "python",
   "nbconvert_exporter": "python",
   "pygments_lexer": "ipython2",
   "version": "2.7.6"
  }
 },
 "nbformat": 4,
 "nbformat_minor": 0
}
